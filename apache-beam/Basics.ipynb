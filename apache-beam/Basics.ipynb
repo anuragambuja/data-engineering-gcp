{
 "cells": [
  {
   "cell_type": "code",
   "execution_count": 2,
   "id": "0b3bca21-41c8-4c7a-a192-a6454379b516",
   "metadata": {},
   "outputs": [],
   "source": [
    "import apache_beam as beam\n",
    "from apache_beam.runners.interactive.interactive_runner import InteractiveRunner\n",
    "from apache_beam import Create, Map, FlatMap, ParDo, Filter"
   ]
  },
  {
   "cell_type": "code",
   "execution_count": 6,
   "id": "92b5645c-f02f-423f-bc1f-346fb7cb7078",
   "metadata": {},
   "outputs": [
    {
     "data": {
      "text/html": [
       "\n",
       "            <link rel=\"stylesheet\" href=\"https://stackpath.bootstrapcdn.com/bootstrap/4.4.1/css/bootstrap.min.css\" integrity=\"sha384-Vkoo8x4CGsO3+Hhxv8T/Q5PaXtkKtu6ug5TOeNV6gBiFeWPGFN9MuhOf23Q9Ifjh\" crossorigin=\"anonymous\">\n",
       "            <div id=\"progress_indicator_c0ce3aa695723f34e93034bcb163a1bf\">\n",
       "              <div class=\"spinner-border text-info\" role=\"status\"></div>\n",
       "              <span class=\"text-info\">Processing... show</span>\n",
       "            </div>\n",
       "            "
      ],
      "text/plain": [
       "<IPython.core.display.HTML object>"
      ]
     },
     "metadata": {},
     "output_type": "display_data"
    },
    {
     "data": {
      "text/html": [
       "\n",
       "            <style>\n",
       "            .p-Widget.jp-OutputPrompt.jp-OutputArea-prompt:empty {\n",
       "              padding: 0;\n",
       "              border: 0;\n",
       "            }\n",
       "            .p-Widget.jp-RenderedJavaScript.jp-mod-trusted.jp-OutputArea-output:empty {\n",
       "              padding: 0;\n",
       "              border: 0;\n",
       "            }\n",
       "            </style>\n",
       "            <link rel=\"stylesheet\" href=\"https://cdn.datatables.net/1.10.20/css/jquery.dataTables.min.css\">\n",
       "            <table id=\"table_df_da698b18ea7d20d5c1a14f7d425db5cd\" class=\"display\" style=\"display:block\"></table>\n",
       "            <script>\n",
       "              \n",
       "        if (typeof window.interactive_beam_jquery == 'undefined') {\n",
       "          var jqueryScript = document.createElement('script');\n",
       "          jqueryScript.src = 'https://code.jquery.com/jquery-3.4.1.slim.min.js';\n",
       "          jqueryScript.type = 'text/javascript';\n",
       "          jqueryScript.onload = function() {\n",
       "            var datatableScript = document.createElement('script');\n",
       "            datatableScript.src = 'https://cdn.datatables.net/1.10.20/js/jquery.dataTables.min.js';\n",
       "            datatableScript.type = 'text/javascript';\n",
       "            datatableScript.onload = function() {\n",
       "              window.interactive_beam_jquery = jQuery.noConflict(true);\n",
       "              window.interactive_beam_jquery(document).ready(function($){\n",
       "                \n",
       "            var dt;\n",
       "            if ($.fn.dataTable.isDataTable(\"#table_df_da698b18ea7d20d5c1a14f7d425db5cd\")) {\n",
       "              dt = $(\"#table_df_da698b18ea7d20d5c1a14f7d425db5cd\").dataTable();\n",
       "            } else if ($(\"#table_df_da698b18ea7d20d5c1a14f7d425db5cd_wrapper\").length == 0) {\n",
       "              dt = $(\"#table_df_da698b18ea7d20d5c1a14f7d425db5cd\").dataTable({\n",
       "                \n",
       "            bAutoWidth: false,\n",
       "            columns: [{'title': ''}, {'title': 'findcube.0'}],\n",
       "            destroy: true,\n",
       "            responsive: true,\n",
       "            columnDefs: [\n",
       "              {\n",
       "                targets: \"_all\",\n",
       "                className: \"dt-left\"\n",
       "              },\n",
       "              {\n",
       "                \"targets\": 0,\n",
       "                \"width\": \"10px\",\n",
       "                \"title\": \"\"\n",
       "              }\n",
       "            ]\n",
       "              });\n",
       "            } else {\n",
       "              return;\n",
       "            }\n",
       "            dt.api()\n",
       "              .clear()\n",
       "              .rows.add([{1: '0', 0: 0}, {1: '1', 0: 1}, {1: '8', 0: 2}, {1: '27', 0: 3}, {1: '64', 0: 4}, {1: '125', 0: 5}, {1: '216', 0: 6}, {1: '343', 0: 7}, {1: '512', 0: 8}, {1: '729', 0: 9}])\n",
       "              .draw('full-hold');\n",
       "              });\n",
       "            }\n",
       "            document.head.appendChild(datatableScript);\n",
       "          };\n",
       "          document.head.appendChild(jqueryScript);\n",
       "        } else {\n",
       "          window.interactive_beam_jquery(document).ready(function($){\n",
       "            \n",
       "            var dt;\n",
       "            if ($.fn.dataTable.isDataTable(\"#table_df_da698b18ea7d20d5c1a14f7d425db5cd\")) {\n",
       "              dt = $(\"#table_df_da698b18ea7d20d5c1a14f7d425db5cd\").dataTable();\n",
       "            } else if ($(\"#table_df_da698b18ea7d20d5c1a14f7d425db5cd_wrapper\").length == 0) {\n",
       "              dt = $(\"#table_df_da698b18ea7d20d5c1a14f7d425db5cd\").dataTable({\n",
       "                \n",
       "            bAutoWidth: false,\n",
       "            columns: [{'title': ''}, {'title': 'findcube.0'}],\n",
       "            destroy: true,\n",
       "            responsive: true,\n",
       "            columnDefs: [\n",
       "              {\n",
       "                targets: \"_all\",\n",
       "                className: \"dt-left\"\n",
       "              },\n",
       "              {\n",
       "                \"targets\": 0,\n",
       "                \"width\": \"10px\",\n",
       "                \"title\": \"\"\n",
       "              }\n",
       "            ]\n",
       "              });\n",
       "            } else {\n",
       "              return;\n",
       "            }\n",
       "            dt.api()\n",
       "              .clear()\n",
       "              .rows.add([{1: '0', 0: 0}, {1: '1', 0: 1}, {1: '8', 0: 2}, {1: '27', 0: 3}, {1: '64', 0: 4}, {1: '125', 0: 5}, {1: '216', 0: 6}, {1: '343', 0: 7}, {1: '512', 0: 8}, {1: '729', 0: 9}])\n",
       "              .draw('full-hold');\n",
       "          });\n",
       "        }\n",
       "            </script>"
      ],
      "text/plain": [
       "<IPython.core.display.HTML object>"
      ]
     },
     "metadata": {},
     "output_type": "display_data"
    },
    {
     "data": {
      "application/javascript": [
       "\n",
       "        if (typeof window.interactive_beam_jquery == 'undefined') {\n",
       "          var jqueryScript = document.createElement('script');\n",
       "          jqueryScript.src = 'https://code.jquery.com/jquery-3.4.1.slim.min.js';\n",
       "          jqueryScript.type = 'text/javascript';\n",
       "          jqueryScript.onload = function() {\n",
       "            var datatableScript = document.createElement('script');\n",
       "            datatableScript.src = 'https://cdn.datatables.net/1.10.20/js/jquery.dataTables.min.js';\n",
       "            datatableScript.type = 'text/javascript';\n",
       "            datatableScript.onload = function() {\n",
       "              window.interactive_beam_jquery = jQuery.noConflict(true);\n",
       "              window.interactive_beam_jquery(document).ready(function($){\n",
       "                \n",
       "            $(\"#progress_indicator_c0ce3aa695723f34e93034bcb163a1bf\").remove();\n",
       "              });\n",
       "            }\n",
       "            document.head.appendChild(datatableScript);\n",
       "          };\n",
       "          document.head.appendChild(jqueryScript);\n",
       "        } else {\n",
       "          window.interactive_beam_jquery(document).ready(function($){\n",
       "            \n",
       "            $(\"#progress_indicator_c0ce3aa695723f34e93034bcb163a1bf\").remove();\n",
       "          });\n",
       "        }"
      ]
     },
     "metadata": {},
     "output_type": "display_data"
    }
   ],
   "source": [
    "p1 = beam.Pipeline(InteractiveRunner())\n",
    "# p1 = beam.Pipeline()\n",
    "\n",
    "def findcube(element):\n",
    "    return element ** 3\n",
    "\n",
    "findcube = (p1 \n",
    "        | \"Create Element\" >> Create(range(10))\n",
    "        | \"Find Cube\" >> Map(lambda x : x**3)\n",
    "        # | \"Find Cube\" >> Map(findcube)\n",
    "        # | \"Print\" >> Map(print)\n",
    "        )\n",
    "\n",
    "p1.run()\n",
    "ib.show(findcube)"
   ]
  },
  {
   "cell_type": "code",
   "execution_count": 11,
   "id": "667b5ba8-16b3-4041-9a2e-3624f141603f",
   "metadata": {},
   "outputs": [
    {
     "name": "stdout",
     "output_type": "stream",
     "text": [
      "8\n",
      "2\n",
      "4\n",
      "6\n",
      "1\n",
      "3\n",
      "5\n",
      "7\n",
      "9\n"
     ]
    },
    {
     "data": {
      "text/plain": [
       "<apache_beam.runners.portability.fn_api_runner.fn_runner.RunnerResult at 0x7fc059a79e80>"
      ]
     },
     "execution_count": 11,
     "metadata": {},
     "output_type": "execute_result"
    }
   ],
   "source": [
    "import apache_beam as beam\n",
    "\n",
    "p1 = beam.Pipeline()\n",
    "\n",
    "even = {2,4,6,8}\n",
    "odd = {1,3,5,7,9}\n",
    "\n",
    "even_p1 = p1 | \"Even No\" >> beam.Create(even)\n",
    "odd_p1 = p1 | \"odd No\" >> beam.Create(odd)\n",
    "\n",
    "flat_out =  (even_p1, odd_p1) | beam.Flatten() | beam.Map(print)\n",
    "\n",
    "p1.run()"
   ]
  },
  {
   "cell_type": "code",
   "execution_count": null,
   "id": "f976ee93-714b-405a-8683-bbf08e00ee20",
   "metadata": {},
   "outputs": [],
   "source": [
    "p1 = beam.Pipeline()\n",
    "findcube = (p1 \n",
    "        | \"Create Element\" >> Create([\"foo bar\", \"hello world\"])\n",
    "        | \"String spliting\" >> FlatMap(str.split)\n",
    "        | \"Print\" >> Map(print)\n",
    "        )\n",
    "\n",
    "p1.run()"
   ]
  },
  {
   "cell_type": "code",
   "execution_count": null,
   "id": "00a44abe-dfe7-440b-89b1-d313d2c6ac5f",
   "metadata": {},
   "outputs": [],
   "source": [
    "p1 = beam.Pipeline()\n",
    "filter_even = (p1 \n",
    "        | \"Create Element\" >> Create(range(20))\n",
    "        | \"Filter Even\" >> Filter(lambda x : x % 2 == 0)\n",
    "        | \"Print\" >> Map(print)\n",
    "        )\n",
    "\n",
    "p1.run()"
   ]
  },
  {
   "cell_type": "code",
   "execution_count": 3,
   "id": "a69c2458-aa00-4455-afb2-ae4ffa93c803",
   "metadata": {},
   "outputs": [
    {
     "name": "stdout",
     "output_type": "stream",
     "text": [
      "foo\n",
      "bar\n"
     ]
    },
    {
     "data": {
      "text/plain": [
       "<apache_beam.runners.portability.fn_api_runner.fn_runner.RunnerResult at 0x7fe10b62b1f0>"
      ]
     },
     "execution_count": 3,
     "metadata": {},
     "output_type": "execute_result"
    }
   ],
   "source": [
    "p1 = beam.Pipeline()\n",
    "findcube = (p1 \n",
    "        | \"Create Element\" >> Create([\"foo bar\", \"hello world\"])\n",
    "        | \"Filter Startwith f\" >> Filter(lambda x : x.startswith(\"f\"))\n",
    "        | \"String spliting\" >> ParDo(str.split)\n",
    "        | \"Print\" >> Map(print)\n",
    "        )\n",
    "\n",
    "p1.run()"
   ]
  },
  {
   "cell_type": "code",
   "execution_count": 4,
   "id": "07bf8c4e-6202-4bf6-8844-b3e3e0ce98ff",
   "metadata": {},
   "outputs": [
    {
     "name": "stdout",
     "output_type": "stream",
     "text": [
      "('bar', 'foo')\n",
      "('world', 'hello')\n"
     ]
    },
    {
     "data": {
      "text/plain": [
       "<apache_beam.runners.portability.fn_api_runner.fn_runner.RunnerResult at 0x7fe10b37aa90>"
      ]
     },
     "execution_count": 4,
     "metadata": {},
     "output_type": "execute_result"
    }
   ],
   "source": [
    "p1 = beam.Pipeline()\n",
    "findcube = (p1 \n",
    "        | \"Create Element\" >> Create( {  \"foo\" : \"bar\" , \"hello\" : \"world\" })\n",
    "        #| \"All Keys\" >> beam.Keys()\n",
    "        #| \"All Values\" >> beam.Values()\n",
    "        #| \"String Display\" >> beam.ToString.Element()  #Kvs()    \n",
    "        | \"kv swap\" >> beam.KvSwap() \n",
    "        | \"Print\" >> Map(print)\n",
    "        )\n",
    "\n",
    "p1.run()"
   ]
  },
  {
   "cell_type": "code",
   "execution_count": 7,
   "id": "5e9c2dc2-2db5-411d-8d49-c5887bfd7aa2",
   "metadata": {},
   "outputs": [
    {
     "name": "stdout",
     "output_type": "stream",
     "text": [
      "/bin/bash: /opt/conda/lib/libtinfo.so.6: no version information available (required by /bin/bash)\n",
      "Collecting sympy\n",
      "  Downloading sympy-1.11.1-py3-none-any.whl (6.5 MB)\n",
      "\u001b[2K     \u001b[90m━━━━━━━━━━━━━━━━━━━━━━━━━━━━━━━━━━━━━━━━\u001b[0m \u001b[32m6.5/6.5 MB\u001b[0m \u001b[31m30.9 MB/s\u001b[0m eta \u001b[36m0:00:00\u001b[0m00:01\u001b[0m00:01\u001b[0m\n",
      "\u001b[?25hCollecting mpmath>=0.19\n",
      "  Downloading mpmath-1.3.0-py3-none-any.whl (536 kB)\n",
      "\u001b[2K     \u001b[90m━━━━━━━━━━━━━━━━━━━━━━━━━━━━━━━━━━━━━━\u001b[0m \u001b[32m536.2/536.2 kB\u001b[0m \u001b[31m29.1 MB/s\u001b[0m eta \u001b[36m0:00:00\u001b[0m\n",
      "\u001b[?25hInstalling collected packages: mpmath, sympy\n",
      "Successfully installed mpmath-1.3.0 sympy-1.11.1\n",
      "Note: you may need to restart the kernel to use updated packages.\n"
     ]
    }
   ],
   "source": [
    "%pip install sympy"
   ]
  },
  {
   "cell_type": "code",
   "execution_count": 13,
   "id": "d8d59bb5-25d6-4101-9c68-60f58a7ee547",
   "metadata": {},
   "outputs": [
    {
     "name": "stdout",
     "output_type": "stream",
     "text": [
      "2\n",
      "3\n",
      "5\n",
      "7\n",
      "11\n",
      "13\n",
      "17\n",
      "19\n"
     ]
    },
    {
     "data": {
      "text/plain": [
       "<apache_beam.runners.portability.fn_api_runner.fn_runner.RunnerResult at 0x7fe108ed76d0>"
      ]
     },
     "execution_count": 13,
     "metadata": {},
     "output_type": "execute_result"
    }
   ],
   "source": [
    "import sympy\n",
    "\n",
    "p1 = beam.Pipeline()\n",
    "\n",
    "def is_prime_function(element, no_par):\n",
    "    return 1 if sympy.isprime(element) else 0\n",
    "\n",
    "is_prime = (p1 \n",
    "        | \"Create Element\" >> Create(range(1,20))\n",
    "        | \"Partition\" >> beam.Partition(is_prime_function , 5)\n",
    "        )\n",
    "\n",
    "is_prime[1] | \"Print Prime Number\" >> Map(print)\n",
    "\n",
    "# is_prime[0] | \"Print Non Prime Number\" >> Map(print)\n",
    "\n",
    "p1.run()"
   ]
  },
  {
   "cell_type": "code",
   "execution_count": 10,
   "id": "3165a468-0150-4425-9175-6aa51ee83955",
   "metadata": {},
   "outputs": [
    {
     "name": "stdout",
     "output_type": "stream",
     "text": [
      "hello\n",
      "world\n"
     ]
    },
    {
     "data": {
      "text/plain": [
       "<apache_beam.runners.portability.fn_api_runner.fn_runner.RunnerResult at 0x7fe10906f5b0>"
      ]
     },
     "execution_count": 10,
     "metadata": {},
     "output_type": "execute_result"
    }
   ],
   "source": [
    "p1 = beam.Pipeline()\n",
    "findcube = (p1 \n",
    "        | \"Create Element\" >> Create([\"1\", \"23\", \"hello\", \"world\"])\n",
    "        | \"Regex\" >> beam.Regex.matches(\"[a-z]+\")  #(\"(\\d+)\")\n",
    "        | \"Print\" >> Map(print)\n",
    "        )\n",
    "\n",
    "p1.run()"
   ]
  },
  {
   "cell_type": "code",
   "execution_count": 14,
   "id": "fa4a55ea-a873-4280-9d08-d5df93ebb4f9",
   "metadata": {},
   "outputs": [
    {
     "name": "stdout",
     "output_type": "stream",
     "text": [
      "4\n"
     ]
    },
    {
     "data": {
      "text/plain": [
       "<apache_beam.runners.portability.fn_api_runner.fn_runner.RunnerResult at 0x7fe108e6c9a0>"
      ]
     },
     "execution_count": 14,
     "metadata": {},
     "output_type": "execute_result"
    }
   ],
   "source": [
    "p1 = beam.Pipeline()\n",
    "findcube = (p1 \n",
    "        | \"Create Element\" >> Create([\"1\", \"23\", \"hello\", \"world\"])\n",
    "        | \"Count\" >> beam.combiners.Count.Globally()\n",
    "        | \"Print\" >> Map(print)\n",
    "        )\n",
    "\n",
    "p1.run()"
   ]
  },
  {
   "cell_type": "code",
   "execution_count": 15,
   "id": "026c443d-d5b8-4f00-bf65-7bb87167b3f8",
   "metadata": {},
   "outputs": [
    {
     "name": "stdout",
     "output_type": "stream",
     "text": [
      "('one+one', 2)\n",
      "('one+three', 4)\n"
     ]
    },
    {
     "data": {
      "text/plain": [
       "<apache_beam.runners.portability.fn_api_runner.fn_runner.RunnerResult at 0x7fe108ee9dc0>"
      ]
     },
     "execution_count": 15,
     "metadata": {},
     "output_type": "execute_result"
    }
   ],
   "source": [
    "p1 = beam.Pipeline()\n",
    "findcube = (p1 \n",
    "        #| \"Create Element\" >> Create([(\"one+one\", [1,1]) , (\"one+three\", [1,3])])\n",
    "        | \"Create Element\" >> Create({\"one+one\" : [1,1], \"one+three\": [1,3] })\n",
    "        | \"Count\" >> beam.CombineValues(sum)\n",
    "        | \"Print\" >> Map(print)\n",
    "        )\n",
    "\n",
    "p1.run()"
   ]
  },
  {
   "cell_type": "code",
   "execution_count": 16,
   "id": "f91527bf-0010-406f-a64d-b04f304cf1b7",
   "metadata": {},
   "outputs": [
    {
     "name": "stdout",
     "output_type": "stream",
     "text": [
      "1\n",
      "2\n",
      "3\n",
      "4\n",
      "5\n"
     ]
    },
    {
     "data": {
      "text/plain": [
       "<apache_beam.runners.portability.fn_api_runner.fn_runner.RunnerResult at 0x7fe108da70a0>"
      ]
     },
     "execution_count": 16,
     "metadata": {},
     "output_type": "execute_result"
    }
   ],
   "source": [
    "p1 = beam.Pipeline()\n",
    "findcube = (p1 \n",
    "        | \"Create Element\" >> Create([1,2,3,4,5,3,2,1])\n",
    "        | \"Count\" >> beam.Distinct()\n",
    "        | \"Print\" >> Map(print)\n",
    "        )\n",
    "\n",
    "p1.run()"
   ]
  },
  {
   "cell_type": "code",
   "execution_count": 17,
   "id": "aa080c5f-9c09-47d6-a624-3b99da576897",
   "metadata": {},
   "outputs": [
    {
     "name": "stdout",
     "output_type": "stream",
     "text": [
      "[16, 14, 1, 4, 2]\n"
     ]
    },
    {
     "data": {
      "text/plain": [
       "<apache_beam.runners.portability.fn_api_runner.fn_runner.RunnerResult at 0x7fe108dcfe50>"
      ]
     },
     "execution_count": 17,
     "metadata": {},
     "output_type": "execute_result"
    }
   ],
   "source": [
    "p1 = beam.Pipeline()\n",
    "findcube = (p1 \n",
    "        | \"Create Element\" >> Create(range(20))\n",
    "        | \"Count\" >> beam.combiners.Sample.FixedSizeGlobally(5)\n",
    "        | \"Print\" >> Map(print)\n",
    "        )\n",
    "\n",
    "p1.run()"
   ]
  },
  {
   "cell_type": "code",
   "execution_count": 19,
   "id": "0b1b88be-c315-4622-b18e-3dc7a7fd4866",
   "metadata": {},
   "outputs": [
    {
     "name": "stdout",
     "output_type": "stream",
     "text": [
      "45\n"
     ]
    },
    {
     "data": {
      "text/plain": [
       "<apache_beam.runners.portability.fn_api_runner.fn_runner.RunnerResult at 0x7fe108ca5760>"
      ]
     },
     "execution_count": 19,
     "metadata": {},
     "output_type": "execute_result"
    }
   ],
   "source": [
    "p1 = beam.Pipeline()\n",
    "out = (p1 \n",
    "        | \"Create Element\" >> Create(range(10))\n",
    "        | \"Sum\" >> beam.CombineGlobally(sum)\n",
    "        # | \"Max\" >> beam.CombineGlobally(max)\n",
    "        | \"Print\" >> Map(print)\n",
    "        )\n",
    "\n",
    "p1.run()"
   ]
  },
  {
   "cell_type": "code",
   "execution_count": 20,
   "id": "b1d12c28-80ac-4c58-adb9-3dd600abb9fc",
   "metadata": {},
   "outputs": [
    {
     "name": "stdout",
     "output_type": "stream",
     "text": [
      "('hello', 2.5)\n",
      "('bye', 7.0)\n"
     ]
    },
    {
     "data": {
      "text/plain": [
       "<apache_beam.runners.portability.fn_api_runner.fn_runner.RunnerResult at 0x7fe108c6aeb0>"
      ]
     },
     "execution_count": 20,
     "metadata": {},
     "output_type": "execute_result"
    }
   ],
   "source": [
    "p1 = beam.Pipeline()\n",
    "out = (p1 \n",
    "        | \"Create Element\" >> Create([(\"hello\", 1), (\"hello\" , 4), (\"bye\" , 7)])\n",
    "        | \"Mean of perkey\" >> beam.combiners.Mean.PerKey()\n",
    "        | \"Print\" >> Map(print)\n",
    "        )\n",
    "\n",
    "p1.run()"
   ]
  },
  {
   "cell_type": "code",
   "execution_count": 21,
   "id": "e02d77bf-2788-41ef-becd-94f4b9c34254",
   "metadata": {},
   "outputs": [
    {
     "name": "stdout",
     "output_type": "stream",
     "text": [
      "[0, 1]\n"
     ]
    },
    {
     "data": {
      "text/plain": [
       "<apache_beam.runners.portability.fn_api_runner.fn_runner.RunnerResult at 0x7fe108d37e20>"
      ]
     },
     "execution_count": 21,
     "metadata": {},
     "output_type": "execute_result"
    }
   ],
   "source": [
    "p1 = beam.Pipeline()\n",
    "out = (p1 \n",
    "        | \"Create Element\" >> Create(range(10))\n",
    "        #| \"Top 2\" >> beam.combiners.Top.Largest(2)\n",
    "        | \"Small 2\" >> beam.combiners.Top.Smallest(2)\n",
    "        | \"Print\" >> Map(print)\n",
    "        )\n",
    "\n",
    "p1.run()"
   ]
  },
  {
   "cell_type": "code",
   "execution_count": 22,
   "id": "c83018ab-7d97-4bf9-8589-2022e94963d9",
   "metadata": {},
   "outputs": [
    {
     "name": "stdout",
     "output_type": "stream",
     "text": [
      "('hello', [4])\n",
      "('bye', [7])\n"
     ]
    },
    {
     "data": {
      "text/plain": [
       "<apache_beam.runners.portability.fn_api_runner.fn_runner.RunnerResult at 0x7fe108c7f0a0>"
      ]
     },
     "execution_count": 22,
     "metadata": {},
     "output_type": "execute_result"
    }
   ],
   "source": [
    "p1 = beam.Pipeline()\n",
    "out = (p1 \n",
    "        | \"Create Element\" >> Create([(\"hello\", 1), (\"hello\" , 4), (\"bye\" , 7)])\n",
    "        | \"Top 1 Per key\" >> beam.combiners.Top.LargestPerKey(1)\n",
    "        | \"Print\" >> Map(print)\n",
    "        )\n",
    "\n",
    "p1.run()"
   ]
  },
  {
   "cell_type": "code",
   "execution_count": 23,
   "id": "198d6697-b36a-49b5-82f6-ce2636657520",
   "metadata": {},
   "outputs": [
    {
     "name": "stdout",
     "output_type": "stream",
     "text": [
      "('hello', [4])\n",
      "('bye', [7])\n"
     ]
    },
    {
     "data": {
      "text/plain": [
       "<apache_beam.runners.portability.fn_api_runner.fn_runner.RunnerResult at 0x7fe108c70df0>"
      ]
     },
     "execution_count": 23,
     "metadata": {},
     "output_type": "execute_result"
    }
   ],
   "source": [
    "p1 = beam.Pipeline()\n",
    "out = (p1 \n",
    "        | \"Create Element\" >> Create([(\"hello\", 1), (\"hello\" , 4), (\"bye\" , 7)])\n",
    "        | \"Top 1 Per key\" >> beam.combiners.Top.LargestPerKey(1)\n",
    "        | \"Print\" >> Map(print)\n",
    "        )\n",
    "\n",
    "p1.run()"
   ]
  },
  {
   "cell_type": "code",
   "execution_count": 24,
   "id": "2ea07d62-3ad5-404f-9ff7-1996298bfb7e",
   "metadata": {},
   "outputs": [
    {
     "name": "stdout",
     "output_type": "stream",
     "text": [
      "('hello', 5)\n",
      "('bye', 7)\n"
     ]
    },
    {
     "data": {
      "text/plain": [
       "<apache_beam.runners.portability.fn_api_runner.fn_runner.RunnerResult at 0x7fe108bfd310>"
      ]
     },
     "execution_count": 24,
     "metadata": {},
     "output_type": "execute_result"
    }
   ],
   "source": [
    "p1 = beam.Pipeline()\n",
    "out = (p1 \n",
    "        | \"Create Element\" >> Create([(\"hello\", 1), (\"hello\" , 4), (\"bye\" , 7)])\n",
    "        | \"Sum perkey basis\" >> beam.CombinePerKey(sum)\n",
    "        | \"Print\" >> Map(print)\n",
    "        )\n",
    "\n",
    "p1.run()"
   ]
  },
  {
   "cell_type": "code",
   "execution_count": null,
   "id": "502571f3-cf23-4170-a06d-dcad2555a4f5",
   "metadata": {},
   "outputs": [],
   "source": []
  }
 ],
 "metadata": {
  "kernelspec": {
   "display_name": "01. Apache Beam 2.46.0 for Python 3",
   "language": "python",
   "name": "01-apache-beam-2.46.0"
  },
  "language_info": {
   "codemirror_mode": {
    "name": "ipython",
    "version": 3
   },
   "file_extension": ".py",
   "mimetype": "text/x-python",
   "name": "python",
   "nbconvert_exporter": "python",
   "pygments_lexer": "ipython3",
   "version": "3.8.10"
  }
 },
 "nbformat": 4,
 "nbformat_minor": 5
}
